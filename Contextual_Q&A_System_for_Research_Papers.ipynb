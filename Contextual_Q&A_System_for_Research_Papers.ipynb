{
  "nbformat": 4,
  "nbformat_minor": 0,
  "metadata": {
    "colab": {
      "provenance": []
    },
    "kernelspec": {
      "name": "python3",
      "display_name": "Python 3"
    },
    "language_info": {
      "name": "python"
    }
  },
  "cells": [
    {
      "cell_type": "code",
      "execution_count": null,
      "metadata": {
        "id": "9M7V9yUaclNT"
      },
      "outputs": [],
      "source": [
        "import os\n",
        "import openai\n",
        "import faiss\n",
        "import numpy as np\n",
        "from langchain.text_splitter import RecursiveCharacterTextSplitter\n",
        "from langchain.embeddings.openai import OpenAIEmbeddings\n",
        "from langchain.vectorstores import FAISS\n",
        "from langchain.document_loaders import PyPDFLoader\n",
        "from langchain.chains import RetrievalQA\n",
        "from langchain.llms import OpenAI\n",
        "\n",
        "# Set OpenAI API Key\n",
        "openai.api_key = \"your_openai_api_key\"\n",
        "\n",
        "# Load and process research paper (PDF)\n",
        "def load_paper(pdf_path):\n",
        "    loader = PyPDFLoader(pdf_path)\n",
        "    documents = loader.load()\n",
        "    return documents\n",
        "\n",
        "# Text Chunking\n",
        "def chunk_text(documents):\n",
        "    text_splitter = RecursiveCharacterTextSplitter(chunk_size=500, chunk_overlap=100)\n",
        "    chunks = text_splitter.split_documents(documents)\n",
        "    return chunks\n",
        "\n",
        "# Embed and Store in FAISS\n",
        "def create_faiss_index(chunks):\n",
        "    embeddings = OpenAIEmbeddings()\n",
        "    vector_store = FAISS.from_documents(chunks, embeddings)\n",
        "    return vector_store\n",
        "\n",
        "# Q&A System\n",
        "def answer_question(query, vector_store):\n",
        "    retriever = vector_store.as_retriever()\n",
        "    qa_chain = RetrievalQA.from_chain_type(llm=OpenAI(model_name=\"gpt-4\"), retriever=retriever)\n",
        "    return qa_chain.run(query)\n",
        "\n",
        "# Main Execution\n",
        "pdf_path = \"research_paper.pdf\"  # Change this to your PDF file\n",
        "documents = load_paper(pdf_path)\n",
        "chunks = chunk_text(documents)\n",
        "vector_store = create_faiss_index(chunks)\n",
        "\n",
        "# Ask a question\n",
        "query = \"What are the main findings of the paper?\"\n",
        "answer = answer_question(query, vector_store)\n",
        "\n",
        "print(\"Answer:\", answer)\n"
      ]
    },
    {
      "cell_type": "markdown",
      "source": [],
      "metadata": {
        "id": "EoArqRdGcwfF"
      }
    }
  ]
}